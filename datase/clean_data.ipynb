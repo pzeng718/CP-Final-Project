{
  "nbformat": 4,
  "nbformat_minor": 0,
  "metadata": {
    "colab": {
      "provenance": []
    },
    "kernelspec": {
      "name": "python3",
      "display_name": "Python 3"
    },
    "language_info": {
      "name": "python"
    }
  },
  "cells": [
    {
      "cell_type": "code",
      "execution_count": 1,
      "metadata": {
        "colab": {
          "base_uri": "https://localhost:8080/"
        },
        "id": "Z_RcsI28LDfK",
        "outputId": "de677e51-c249-4b1b-9877-34e80bc52367"
      },
      "outputs": [
        {
          "output_type": "stream",
          "name": "stdout",
          "text": [
            "sample_data\n"
          ]
        }
      ],
      "source": [
        "!ls\n"
      ]
    },
    {
      "cell_type": "code",
      "source": [
        "import csv"
      ],
      "metadata": {
        "id": "f0o7Ypi4Lkcb"
      },
      "execution_count": 3,
      "outputs": []
    },
    {
      "cell_type": "code",
      "source": [
        "file_name = '/memory_note.csv'"
      ],
      "metadata": {
        "id": "Br6iobqkLLc3"
      },
      "execution_count": 2,
      "outputs": []
    },
    {
      "cell_type": "code",
      "source": [
        "rows = []\n",
        "\n",
        "# Open the CSV file and read each row\n",
        "with open(file_name, 'r', newline='') as csvfile:\n",
        "    reader = csv.reader(csvfile)\n",
        "\n",
        "    # Iterate over each row in the CSV file\n",
        "    for row in reader:\n",
        "        # Append the current row to the list\n",
        "        rows.append(row[0])\n",
        "\n"
      ],
      "metadata": {
        "id": "ea5ksqCrLylF"
      },
      "execution_count": null,
      "outputs": []
    },
    {
      "cell_type": "code",
      "source": [
        "#strip /n\n",
        "new_rows = []\n",
        "temp_rows = []\n",
        "\n",
        "for row in rows:\n",
        "  temp_rows.append(row.strip('\\n'))\n",
        "\n",
        "for row in temp_rows:\n",
        "  print(row)\n",
        "  print(\"**\")\n",
        "\n"
      ],
      "metadata": {
        "id": "EWbgQZEqL_gg"
      },
      "execution_count": null,
      "outputs": []
    },
    {
      "cell_type": "code",
      "source": [
        "new_rows = temp_rows"
      ],
      "metadata": {
        "id": "Xvc8hg2lPseO"
      },
      "execution_count": 20,
      "outputs": []
    },
    {
      "cell_type": "code",
      "source": [
        "#strip mutiple data\n",
        "new_rows_1 = []\n",
        "temp_rows_1 = []\n",
        "\n",
        "\n",
        "\n",
        "for row in new_rows:\n",
        "  row = row.strip('.')\n",
        "  if row.count('.')>1:\n",
        "    row = row.split('.')\n",
        "    temp_rows_1 += row\n",
        "  else:\n",
        "    temp_rows_1.append(row)\n",
        "\n"
      ],
      "metadata": {
        "id": "xyfZ5s9qN4OH"
      },
      "execution_count": 25,
      "outputs": []
    },
    {
      "cell_type": "code",
      "source": [
        "for i in temp_rows_1:\n",
        "  print(i)\n",
        "  print(\"***\")"
      ],
      "metadata": {
        "id": "UghMuKs8O0Dr"
      },
      "execution_count": null,
      "outputs": []
    },
    {
      "cell_type": "code",
      "source": [
        "#remove invalid data\n",
        "new_rows_2 = temp_rows_1\n",
        "temp_rows_2 = []\n",
        "\n",
        "\n",
        "\n",
        "for row in new_rows_2:\n",
        "    if len(row) <= 5:\n",
        "      continue\n",
        "    else:\n",
        "      chars_to_strip = '0123456789. \\n'\n",
        "      temp = row.strip(chars_to_strip)\n",
        "      temp_rows_2.append(temp)"
      ],
      "metadata": {
        "id": "Ew3gYLy9Rrwr"
      },
      "execution_count": 33,
      "outputs": []
    },
    {
      "cell_type": "code",
      "source": [
        "for i in temp_rows_2:\n",
        "  print(\"///\"+i+\"///\")\n",
        "  print(\"***\")\n"
      ],
      "metadata": {
        "id": "8IYllfjaSyXz"
      },
      "execution_count": null,
      "outputs": []
    },
    {
      "cell_type": "code",
      "source": [
        "with open(\"clean_data.csv\", 'a', newline='') as csvfile:\n",
        "    writer = csv.writer(csvfile)\n",
        "\n",
        "    for i in temp_rows_2:\n",
        "      writer.writerow([i])"
      ],
      "metadata": {
        "id": "H8mdtuyaTTxM"
      },
      "execution_count": 36,
      "outputs": []
    }
  ]
}